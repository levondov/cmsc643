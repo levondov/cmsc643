{
 "cells": [
  {
   "cell_type": "code",
   "execution_count": 1,
   "metadata": {},
   "outputs": [],
   "source": [
    "# Functions from part1 are in util.py\n",
    "# Functions from part2 are in util2.py\n",
    "\n",
    "# util.py functions:\n",
    "#\n",
    "# parse_data(filename) , parse_data_truth(filename)\n",
    "# shingle_document(string,k)\n",
    "# jaccard(string1,string2)\n",
    "# processData(fileID,k)\n",
    "#\n",
    "# util2.py functions:\n",
    "#\n",
    "# processShingles(filename,k), invert_shingles(shingled_documents)\n",
    "# make_hashes(numHashes)\n",
    "# make_minhash_signature(shingled_data numHashes)\n",
    "# minhash_similarity(id1,id2,minhash_matrix, docids)\n",
    "# processJsimMH(filename,k,numHashes):\n",
    "\n",
    "from util import *\n",
    "from util2 import *\n",
    "import scipy.optimize as opt\n",
    "import matplotlib.pyplot as plt\n",
    "import math\n",
    "import time"
   ]
  },
  {
   "cell_type": "markdown",
   "metadata": {},
   "source": [
    "### Hash Functions"
   ]
  },
  {
   "cell_type": "code",
   "execution_count": 2,
   "metadata": {},
   "outputs": [],
   "source": [
    "# Given functions\n",
    "def _make_vector_hash(num_hashes, m=4294967295):\n",
    "    hash_fns = make_hashes(num_hashes)\n",
    "    def _f(vec):\n",
    "        acc = 0\n",
    "        for i in range(len(vec)):\n",
    "            h = hash_fns[i]\n",
    "            acc += h(vec[i])\n",
    "        return acc % m\n",
    "    return _f\n",
    "\n",
    "def _choose_nbands(threshold, nhashes):\n",
    "    error_fun = lambda x: (threshold-((1/x[0])**(x[0]/nhashes)))**2\n",
    "    res = opt.minimize(error_fun, x0=(10), method='Nelder-Mead')\n",
    "    b = int(math.ceil(res['x'][0]))\n",
    "    r = int(nhashes / b)\n",
    "    final_t = (1/b)**(1/r)\n",
    "    return b, final_t"
   ]
  },
  {
   "cell_type": "markdown",
   "metadata": {},
   "source": [
    "### LSH Function"
   ]
  },
  {
   "cell_type": "code",
   "execution_count": 3,
   "metadata": {},
   "outputs": [],
   "source": [
    "from collections import defaultdict\n",
    "\n",
    "def do_lsh(minhash, numhashes, docids, threshold):\n",
    "    b, _ = _choose_nbands(threshold, numhashes)\n",
    "    r = int(numhashes / b)\n",
    "    narticles = len(docids)\n",
    "    hash_func = _make_vector_hash(r)\n",
    "    buckets = []\n",
    "    for band in range(b):\n",
    "        start_index = int(band * r)\n",
    "        end_index = min(start_index + r, numhashes) - 1 # w/o -1 you get an off by 1 index error\n",
    "        cur_buckets = defaultdict(list)\n",
    "        for j in range(narticles):\n",
    "        # THIS IS WHAT YOU NEED TO IMPLEMENT\n",
    "            cur_buckets[docids[j]] = hash_func(minhash[start_index:end_index,j])\n",
    "        buckets.append(cur_buckets)\n",
    "    \n",
    "    # hash tables per a band\n",
    "    return buckets\n"
   ]
  },
  {
   "cell_type": "markdown",
   "metadata": {},
   "source": [
    "### Calculate the single MinHash signature matrix"
   ]
  },
  {
   "cell_type": "code",
   "execution_count": 4,
   "metadata": {},
   "outputs": [],
   "source": [
    "# Load data and calculate minHash matrix for given hashes and shingle size\n",
    "fname = 'data/articles_10000.'\n",
    "dat_t = parse_data_truth(fname+'truth')\n",
    "\n",
    "k_size = 10\n",
    "numHashes = 1000\n",
    "\n",
    "if 0:\n",
    "    start_time = time.time()\n",
    "    # get a list of tuples of the form (docid, [shingles])\n",
    "    shingles = processShingles(fname+'train',k_size)\n",
    "    print 'SHINGLING | --- '+str(time.time()-start_time)+' seconds --- |'  \n",
    "    # create minhash signature from data\n",
    "    mh_matrix, docids = make_minhash_signature(shingles,numHashes)\n",
    "    print 'MINHASH | --- '+str(time.time()-start_time)+' seconds --- |'\n",
    "    np.save('data_gen/data_100_lsh.npy', mh_matrix)\n",
    "else:\n",
    "    mh_matrix = np.load('data_gen/data_10000_lsh.npy')\n",
    "    docids = np.load('data_gen/data_10000_lsh_docid.npy')"
   ]
  },
  {
   "cell_type": "markdown",
   "metadata": {},
   "source": [
    "### Find candidate pairs"
   ]
  },
  {
   "cell_type": "code",
   "execution_count": 5,
   "metadata": {},
   "outputs": [],
   "source": [
    "def processLSH(bands):\n",
    "    candidate_pairs = []\n",
    "    \n",
    "    # iterate over each band\n",
    "    for band in bands:\n",
    "        inverse_band = defaultdict(list)\n",
    "        # generate dictionary with vector hashes as keys and docids as values\n",
    "        for k, v in band.iteritems():\n",
    "            inverse_band[v].append(k)\n",
    "        # iterate through and find documents that hashed to same value\n",
    "        for k,v in inverse_band.iteritems():\n",
    "            if len(v) > 1:\n",
    "                candidate_pairs.append((v[0],v[1]))\n",
    "    return candidate_pairs                "
   ]
  },
  {
   "cell_type": "code",
   "execution_count": 31,
   "metadata": {},
   "outputs": [],
   "source": [
    "def calcConfusionMatrix(thresholds):\n",
    "    TP_counts = []\n",
    "    FP_counts = []\n",
    "    FN_counts = []\n",
    "    for threshold in thresholds:\n",
    "        buckets = do_lsh(mh_matrix, numHashes, docids, threshold)\n",
    "        dat_t_pred = list(set(processLSH(buckets)))\n",
    "        # iterate through truth table\n",
    "        TP_count = 0\n",
    "        for truth_pair in dat_t:\n",
    "            for truth_pair_pred in dat_t_pred:\n",
    "                if truth_pair == truth_pair_pred or truth_pair == truth_pair_pred[::-1]:\n",
    "                    TP_count+=1\n",
    "                    break\n",
    "        TP_counts.append(TP_count)\n",
    "        FP_counts.append(len(dat_t_pred)-TP_count)\n",
    "        FN_counts.append(len(dat_t)-TP_count)\n",
    "    return TP_counts,FP_counts,FN_counts"
   ]
  },
  {
   "cell_type": "markdown",
   "metadata": {},
   "source": [
    "### Calculate Conufsion Matrix and plot results"
   ]
  },
  {
   "cell_type": "code",
   "execution_count": 56,
   "metadata": {},
   "outputs": [
    {
     "name": "stderr",
     "output_type": "stream",
     "text": [
      "/usr/local/lib/python2.7/dist-packages/ipykernel_launcher.py:13: RuntimeWarning: invalid value encountered in double_scalars\n",
      "  del sys.path[0]\n"
     ]
    },
    {
     "name": "stdout",
     "output_type": "stream",
     "text": [
      "[1.0, 1.0, 1.0, 1.0, 1.0, 1.0, 0.9875, 0.9625, 0.775, 0.625]\n",
      "[80, 80, 80, 80, 80, 80, 79, 77, 62, 50]\n",
      "[0, 0, 0, 0, 0, 0, 0, 0, 0, 0]\n",
      "[0, 0, 0, 0, 0, 0, 1, 3, 18, 30]\n"
     ]
    }
   ],
   "source": [
    "# Calc sensitivity\n",
    "sensitivity = []\n",
    "thresholds1 = np.linspace(0.9,0.999,10)\n",
    "TPs,FPs,FNs = calcConfusionMatrix(thresholds1)\n",
    "for (TP,FP,FN) in zip(TPs,FPs,FNs):\n",
    "    sensitivity.append(1.0*TP/(TP+FN))\n",
    "\n",
    "print sensitivity\n",
    "print TPs\n",
    "print FPs\n",
    "print FNs"
   ]
  },
  {
   "cell_type": "code",
   "execution_count": 57,
   "metadata": {},
   "outputs": [
    {
     "name": "stdout",
     "output_type": "stream",
     "text": [
      "[0.0, 0.0002920699361462102, 0.0030637254901960784, 0.04953560371517028, 0.7766990291262136, 0.975609756097561, 0.975609756097561, 1.0, 1.0, 1.0]\n",
      "[0, 80, 80, 80, 80, 80, 80, 80, 80, 60]\n",
      "[1, 273827, 26032, 1535, 23, 2, 2, 0, 0, 0]\n",
      "[80, 0, 0, 0, 0, 0, 0, 0, 0, 20]\n"
     ]
    }
   ],
   "source": [
    "# Calc specifity\n",
    "specifity = []\n",
    "thresholds2 = np.linspace(0.01,0.99,10)\n",
    "TPs,FPs,FNs = calcConfusionMatrix(thresholds2)\n",
    "for (TP,FP,FN) in zip(TPs,FPs,FNs):\n",
    "    specifity.append(1.0*TP/(TP+FP))\n",
    "\n",
    "print specifity\n",
    "print TPs\n",
    "print FPs\n",
    "print FNs"
   ]
  },
  {
   "cell_type": "code",
   "execution_count": 58,
   "metadata": {},
   "outputs": [
    {
     "data": {
      "image/png": "[encoded data removed]",
      "text/plain": [
       "<matplotlib.figure.Figure at 0x7fad53b60f50>"
      ]
     },
     "metadata": {},
     "output_type": "display_data"
    }
   ],
   "source": [
    "fig=plt.figure()\n",
    "ax=fig.add_subplot(111, label=\"1\")\n",
    "ax2=fig.add_subplot(111, label=\"2\", frame_on=False)\n",
    "\n",
    "ax.plot(thresholds2,specifity,'C0.-')\n",
    "ax.set_xlabel(\"Threshold\", color=\"C0\")\n",
    "ax.set_ylabel(\"Specifity\", color=\"C0\")\n",
    "ax.tick_params(axis='x', colors=\"C0\")\n",
    "ax.tick_params(axis='y', colors=\"C0\")\n",
    "\n",
    "ax2.plot(thresholds1,sensitivity,'C1.-')\n",
    "ax2.xaxis.tick_top()\n",
    "ax2.yaxis.tick_right()\n",
    "ax2.set_xlabel('Threshold', color=\"C1\") \n",
    "ax2.set_ylabel('Sensitivity', color=\"C1\")       \n",
    "ax2.xaxis.set_label_position('top') \n",
    "ax2.yaxis.set_label_position('right') \n",
    "ax2.tick_params(axis='x', colors=\"C1\")\n",
    "ax2.tick_params(axis='y', colors=\"C1\")"
   ]
  },
  {
   "cell_type": "code",
   "execution_count": null,
   "metadata": {},
   "outputs": [],
   "source": []
  },
  {
   "cell_type": "code",
   "execution_count": null,
   "metadata": {},
   "outputs": [],
   "source": []
  }
 ],
 "metadata": {
  "kernelspec": {
   "display_name": "Python 2",
   "language": "python",
   "name": "python2"
  },
  "language_info": {
   "codemirror_mode": {
    "name": "ipython",
    "version": 2
   },
   "file_extension": ".py",
   "mimetype": "text/x-python",
   "name": "python",
   "nbconvert_exporter": "python",
   "pygments_lexer": "ipython2",
   "version": "2.7.12"
  }
 },
 "nbformat": 4,
 "nbformat_minor": 2
}
