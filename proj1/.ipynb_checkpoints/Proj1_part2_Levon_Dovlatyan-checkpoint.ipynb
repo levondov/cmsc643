{
 "cells": [
  {
   "cell_type": "code",
   "execution_count": 3,
   "metadata": {},
   "outputs": [],
   "source": [
    "# Functions from part1 are in util.py\n",
    "\n",
    "# util.py functions:\n",
    "#\n",
    "# parse_data(filename) , parse_data_truth(filename)\n",
    "# shingle_document(string,k)\n",
    "# jaccard(string1,string2)\n",
    "# processData(fileID,k)\n",
    "\n",
    "from util import *"
   ]
  },
  {
   "cell_type": "markdown",
   "metadata": {},
   "source": [
    "### Part 2A"
   ]
  },
  {
   "cell_type": "code",
   "execution_count": 4,
   "metadata": {},
   "outputs": [],
   "source": [
    "def processShingles(fid,k):\n",
    "    # given a file, will return a list of tuples of the form (docid, [shingles])\n",
    "    data = []\n",
    "    dt = parse_data(fid) # parse data\n",
    "    \n",
    "    for doc in dt:\n",
    "        data.append((doc[0],shingle_document(doc[1],k)))\n",
    "\n",
    "    return data\n",
    "\n",
    "def invert_shingles(shingled_documents):\n",
    "    items = [] # contains list of unique shingles\n",
    "    data = [] # tuple list to return\n",
    "    docs = [] # list of doc ids\n",
    "    \n",
    "    for doc in shingled_documents:\n",
    "        docs.append(doc[0])\n",
    "        for shingle in doc[1]:\n",
    "            try:\n",
    "                # check to see if shingle is already in our list\n",
    "                idx = items.index(shingle)\n",
    "                # if yes, just append the doc id to our tuple list\n",
    "                data[idx][1].append(doc[0]) \n",
    "            except:\n",
    "                # shingle not in our list, need to create new entry\n",
    "                \n",
    "                # add shingle to item list\n",
    "                items.append(shingle)\n",
    "                # add an entry to our tuple list\n",
    "                data.append((shingle,[doc[0]]))\n",
    "                \n",
    "    idx = np.argsort(items) # sort shingles\n",
    "    return [data[i] for i in idx], docs\n"
   ]
  },
  {
   "cell_type": "markdown",
   "metadata": {},
   "source": [
    "#### Quick check for invert shingles\n"
   ]
  },
  {
   "cell_type": "code",
   "execution_count": 5,
   "metadata": {},
   "outputs": [
    {
     "name": "stdout",
     "output_type": "stream",
     "text": [
      "([(1, [1, 2, 3]), (2, [1, 3]), (3, [1]), (4, [2]), (8, [3]), (91, [2])], [1, 2, 3])\n"
     ]
    }
   ],
   "source": [
    "dat = [(1,[1,2,3]),(2,[91,4,1]),(3,[2,8,1])]\n",
    "print invert_shingles(dat)"
   ]
  },
  {
   "cell_type": "markdown",
   "metadata": {},
   "source": [
    "### Part 2B"
   ]
  },
  {
   "cell_type": "code",
   "execution_count": 6,
   "metadata": {},
   "outputs": [],
   "source": [
    "import random\n",
    "\n",
    "def make_random_hash_fn(p=2**33-355, m=4294967295):\n",
    "    a = random.randint(1,p-1)\n",
    "    b = random.randint(0, p-1)\n",
    "    return lambda x: ((a * x + b) % p) % m\n",
    "\n",
    "def make_hashes(num_hash=1):\n",
    "    h_functions = []\n",
    "    for i in range(num_hash):\n",
    "        h_functions.append(make_random_hash_fn())\n",
    "    return h_functions"
   ]
  },
  {
   "cell_type": "markdown",
   "metadata": {},
   "source": [
    "### Part 2C"
   ]
  },
  {
   "cell_type": "code",
   "execution_count": 7,
   "metadata": {},
   "outputs": [],
   "source": [
    "import numpy\n",
    "\n",
    "def make_minhash_signature(shingled_data, num_hashes):\n",
    "    inv_index, docids_full = invert_shingles(shingled_data)\n",
    "    num_docs = len(docids_full)\n",
    "\n",
    "    # initialize the signature matrix with infinity in every entry\n",
    "    sigmatrix = np.full([num_hashes, num_docs], np.inf)\n",
    "\n",
    "    # generate hash functions\n",
    "    hash_funcs = make_hashes(num_hashes)\n",
    "\n",
    "    # iterate over each non-zero entry of the characteristic matrix\n",
    "    for row, docids in inv_index: # for each row in characteristic matrix\n",
    "        for docid in docids: # for each document in a row\n",
    "            docid_idx = docids_full.index(docid) # find index of document in full list\n",
    "            for i,hash_func in enumerate(hash_funcs): # for each hash function\n",
    "                if sigmatrix[i,docid_idx] != 0: # only if sigmatrix value is not zero\n",
    "                    if hash_func(row) < sigmatrix[i,docid_idx]:\n",
    "                        sigmatrix[i,docid_idx] = hash_func(row)\n",
    "\n",
    "    return sigmatrix, docids_full\n",
    "\n"
   ]
  },
  {
   "cell_type": "markdown",
   "metadata": {},
   "source": [
    "### Part 2D"
   ]
  },
  {
   "cell_type": "code",
   "execution_count": 8,
   "metadata": {},
   "outputs": [],
   "source": [
    "def minhash_similarity(id1, id2, minhash_sigmat, docids):\n",
    "    # get column of the similarity matrix for the two documents\n",
    "    id1_idx = docids.index(id1)\n",
    "    id2_idx = docids.index(id2)\n",
    "    \n",
    "    # calculate the fraction of rows where two columns match\n",
    "    return np.mean(minhash_sigmat[:,id1_idx] == minhash_sigmat[:,id2_idx])"
   ]
  },
  {
   "cell_type": "markdown",
   "metadata": {},
   "source": [
    "### Part 2E"
   ]
  },
  {
   "cell_type": "code",
   "execution_count": 9,
   "metadata": {},
   "outputs": [],
   "source": [
    "def processJsimMH(fid,k,numHashes):\n",
    "    \n",
    "    # get a list of tuples of the form (docid, [shingles])\n",
    "    shingles = processShingles(fid,k)\n",
    "    \n",
    "    # create minhash signature from data\n",
    "    mh_matrix, docids = make_minhash_signature(shingles,numHashes)\n",
    "    \n",
    "    data = []\n",
    "    for dtpair in combinations(docids, 2):  # N choose 2 to loop through all pairs of doc ids\n",
    "        \n",
    "        # calculate minhash jsim estimate\n",
    "        mhJsim = minhash_similarity(dtpair[0],dtpair[1], mh_matrix, docids)\n",
    "        \n",
    "        # add to data\n",
    "        data.append((dtpair[0],dtpair[1],mhJsim))\n",
    "        \n",
    "    return data"
   ]
  },
  {
   "cell_type": "markdown",
   "metadata": {},
   "source": [
    "### PART 2F\n",
    "\n",
    "- Generate data and save to memory\n",
    "\n",
    "I am going to assume a fixed shingle length and vary number of hashes"
   ]
  },
  {
   "cell_type": "code",
   "execution_count": 10,
   "metadata": {},
   "outputs": [],
   "source": [
    "import time\n",
    "\n",
    "fname = 'data/articles_1000.train'\n",
    "k = 4\n",
    "numHashes = [1,5,10,50,100,500,1000,10000]\n",
    "mhsims = []\n",
    "\n",
    "if 0:\n",
    "    for numHash in numHashes:\n",
    "        start_time = time.time()\n",
    "        mhsims.append(processJsimMH(fname,k,numHash))\n",
    "        print ' --- '+str(time.time()-start_time)+' seconds --- | Hashes = '+str(numHash)+' / '+str(numHashes[-1])\n",
    "        # save data every iteration\n",
    "        np.save('data_gen/data_1000_part2_hashes.npy',mhsims)\n",
    "else:\n",
    "    mhsims = np.load('data_gen/data_1000_part2_hashes.npy')"
   ]
  },
  {
   "cell_type": "markdown",
   "metadata": {},
   "source": [
    "- Load known Jaccard sim values from part 1 and calculate RMS error"
   ]
  },
  {
   "cell_type": "code",
   "execution_count": 11,
   "metadata": {},
   "outputs": [],
   "source": [
    "jsims = np.load('data_gen/data_1000.npy')\n",
    "k = 4\n",
    "rms_errs = []\n",
    "\n",
    "for j in range(len(mhsims)): # for each hash\n",
    "    rms_err = 0\n",
    "    for i in range(len(jsims)): # for each doc pair\n",
    "        # calculate rms error\n",
    "        rms_err += (float(jsims[k-1][i][2]) - float(mhsims[j][i][2]))**2\n",
    "        \n",
    "    rms_err = np.sqrt(rms_err/len(jsims[k-1]))\n",
    "    rms_errs.append(rms_err)"
   ]
  },
  {
   "cell_type": "markdown",
   "metadata": {},
   "source": [
    "- plot results "
   ]
  },
  {
   "cell_type": "code",
   "execution_count": 20,
   "metadata": {},
   "outputs": [
    {
     "data": {
      "image/png": "[encoded data removed]",
      "text/plain": [
       "<matplotlib.figure.Figure at 0x7f96491448d0>"
      ]
     },
     "metadata": {},
     "output_type": "display_data"
    }
   ],
   "source": [
    "import matplotlib.pyplot as plt\n",
    "\n",
    "plt.plot(numHashes,rms_errs,marker='o')\n",
    "\n",
    "plt.title('MinHash estimate of true JSIM w/ shingle size 4')\n",
    "plt.ylabel('RMS error')\n",
    "plt.xlabel('number of Hashes')\n",
    "plt.gca().set_xscale(\"log\", nonposx='clip')\n",
    "plt.grid(True)\n",
    "\n",
    "plt.show()"
   ]
  },
  {
   "cell_type": "code",
   "execution_count": null,
   "metadata": {},
   "outputs": [],
   "source": []
  }
 ],
 "metadata": {
  "kernelspec": {
   "display_name": "Python 2",
   "language": "python",
   "name": "python2"
  },
  "language_info": {
   "codemirror_mode": {
    "name": "ipython",
    "version": 2
   },
   "file_extension": ".py",
   "mimetype": "text/x-python",
   "name": "python",
   "nbconvert_exporter": "python",
   "pygments_lexer": "ipython2",
   "version": "2.7.12"
  }
 },
 "nbformat": 4,
 "nbformat_minor": 2
}
