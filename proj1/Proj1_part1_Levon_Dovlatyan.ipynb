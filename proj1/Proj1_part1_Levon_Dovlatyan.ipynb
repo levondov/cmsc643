{
 "cells": [
  {
   "cell_type": "markdown",
   "metadata": {},
   "source": [
    "# Project 1\n",
    "\n",
    "## Levon Dovlatyan"
   ]
  },
  {
   "cell_type": "code",
   "execution_count": 1,
   "metadata": {
    "collapsed": true
   },
   "outputs": [],
   "source": [
    "import numpy as np\n",
    "import matplotlib.pyplot as plt\n",
    "import pylab\n",
    "\n",
    "params = {'legend.fontsize': '16',\n",
    "         'axes.labelsize': '20',\n",
    "         'axes.titlesize':'20',\n",
    "         'xtick.labelsize':'16',\n",
    "         'ytick.labelsize':'16'}\n",
    "pylab.rcParams.update(params)\n",
    "\n",
    "%matplotlib inline"
   ]
  },
  {
   "cell_type": "markdown",
   "metadata": {},
   "source": [
    "### Part 1A"
   ]
  },
  {
   "cell_type": "code",
   "execution_count": 2,
   "metadata": {
    "collapsed": true
   },
   "outputs": [],
   "source": [
    "import string\n",
    "\n",
    "# load data\n",
    "def parse_data(fname):\n",
    "    data = []\n",
    "    for line in open(fname):\n",
    "        # split string in two by space so first word is id, second word is rest of document\n",
    "        id_data = line.split(' ',1)[0]\n",
    "        # apply lower case and removal of all punctuations + next line (\\n) and white space ( )\n",
    "        s_data = line.split(' ',1)[1].lower().translate(None, ' \\n'+string.punctuation)\n",
    "        data.append((id_data,s_data))\n",
    "    return data\n",
    "\n",
    "# load truth data\n",
    "def parse_data_truth(fname):\n",
    "    data = []\n",
    "    for line in open(fname):\n",
    "        # split string in two\n",
    "        f1 = line.split(' ',1)[0].translate(None, ' \\n')\n",
    "        f2 = line.split(' ',1)[1].translate(None, ' \\n')\n",
    "        data.append((f1,f2))\n",
    "    return data\n",
    "        "
   ]
  },
  {
   "cell_type": "markdown",
   "metadata": {},
   "source": [
    "### Part 1B"
   ]
  },
  {
   "cell_type": "code",
   "execution_count": 3,
   "metadata": {
    "collapsed": true
   },
   "outputs": [],
   "source": [
    "import binascii\n",
    "\n",
    "def shingle_document(astring,k):\n",
    "    data = []\n",
    "    for i in range(len(astring)-k+1):\n",
    "        data.append(binascii.crc32(astring[i:(i+k)]))\n",
    "        #data.append(astring[i:(i+k)]) # for testing\n",
    "    return np.unique(data) # need to return sets, not bags"
   ]
  },
  {
   "cell_type": "markdown",
   "metadata": {},
   "source": [
    "### Part 1C"
   ]
  },
  {
   "cell_type": "code",
   "execution_count": 4,
   "metadata": {
    "collapsed": true
   },
   "outputs": [],
   "source": [
    "def jaccard(st1,st2):    \n",
    "    # concat, and sort\n",
    "    st = np.sort(np.concatenate((st1,st2)))\n",
    "    \n",
    "    # assume initially no intersection and all union\n",
    "    inter = 0.\n",
    "    union = len(st)\n",
    "    \n",
    "    for i in range(union-1):\n",
    "        if st[i] == st[i+1]:\n",
    "            # for each intersection add count to inter and remove count from union\n",
    "            inter += 1\n",
    "            union -= 1\n",
    "            \n",
    "    return inter / union # Jaccard distance would be d(x,y) = 1 - JSIM(x,y)\n",
    "\n",
    "def jaccard_test(st1,st2):\n",
    "    # test method using numpy functions to make sure my jaccard method works correctly.\n",
    "    return len(np.intersect1d(st1,st2))*1.0 / len(np.union1d(st1,st2))*1.0"
   ]
  },
  {
   "cell_type": "markdown",
   "metadata": {},
   "source": [
    "### Part 1D"
   ]
  },
  {
   "cell_type": "code",
   "execution_count": 5,
   "metadata": {
    "collapsed": true
   },
   "outputs": [],
   "source": [
    "from itertools import combinations # to find all pairs in a set, basically (N choose 2)\n",
    "\n",
    "def processData(fid,k):\n",
    "    data = []\n",
    "    dt = parse_data(fid) # parse data\n",
    "    dt_truth = parse_data_truth(fid[0:-5]+'truth') # parse truth data\n",
    "    N = len(dt)\n",
    "    \n",
    "    for dtpair in combinations(dt, 2):  # N choose 2 to loop through all pairs\n",
    "        dt1 = shingle_document(dtpair[0][1],k)\n",
    "        dt2 = shingle_document(dtpair[1][1],k)\n",
    "        dtjac = jaccard(dt1,dt2)\n",
    "        if ((dtpair[0][0],dtpair[1][0]) or (dtpair[1][0],dtpair[0][0])) in dt_truth:\n",
    "            data.append((dtpair[0][0],dtpair[1][0],dtjac,'Y'))\n",
    "        else:\n",
    "            data.append((dtpair[0][0],dtpair[1][0],dtjac,'N'))\n",
    "    return data"
   ]
  },
  {
   "cell_type": "markdown",
   "metadata": {},
   "source": [
    "### Simple sanity test to make sure everything above works (worked out by hand)"
   ]
  },
  {
   "cell_type": "code",
   "execution_count": 6,
   "metadata": {},
   "outputs": [
    {
     "name": "stdout",
     "output_type": "stream",
     "text": [
      "0.538461538462\n",
      "0.538461538462\n"
     ]
    }
   ],
   "source": [
    "x = 'test123test221'\n",
    "y = '231test123test'\n",
    "x1 = shingle_document(x,3)\n",
    "y1 = shingle_document(y,3)\n",
    "\n",
    "print jaccard(x1,y1)\n",
    "print jaccard_test(x1,y1)"
   ]
  },
  {
   "cell_type": "markdown",
   "metadata": {},
   "source": [
    "### Part 1E\n",
    "\n",
    "- Generate data"
   ]
  },
  {
   "cell_type": "code",
   "execution_count": 8,
   "metadata": {},
   "outputs": [
    {
     "ename": "NameError",
     "evalue": "name 'dontrunthis' is not defined",
     "output_type": "error",
     "traceback": [
      "\u001b[0;31m---------------------------------------------------------------------------\u001b[0m",
      "\u001b[0;31mNameError\u001b[0m                                 Traceback (most recent call last)",
      "\u001b[0;32m<ipython-input-8-651c38eaee55>\u001b[0m in \u001b[0;36m<module>\u001b[0;34m()\u001b[0m\n\u001b[1;32m      6\u001b[0m \u001b[0;32mimport\u001b[0m \u001b[0mtime\u001b[0m\u001b[0;34m\u001b[0m\u001b[0m\n\u001b[1;32m      7\u001b[0m \u001b[0;34m\u001b[0m\u001b[0m\n\u001b[0;32m----> 8\u001b[0;31m \u001b[0mdontrunthis\u001b[0m\u001b[0;34m(\u001b[0m\u001b[0;34m)\u001b[0m\u001b[0;34m\u001b[0m\u001b[0m\n\u001b[0m\u001b[1;32m      9\u001b[0m \u001b[0;34m\u001b[0m\u001b[0m\n\u001b[1;32m     10\u001b[0m \u001b[0mfname\u001b[0m \u001b[0;34m=\u001b[0m \u001b[0;34m'data/articles_1000.train'\u001b[0m\u001b[0;34m\u001b[0m\u001b[0m\n",
      "\u001b[0;31mNameError\u001b[0m: name 'dontrunthis' is not defined"
     ]
    }
   ],
   "source": [
    "# Generate calculations and save data to memory\n",
    "\n",
    "# compute jaccard similarity for all pairs and save data\n",
    "# run time seems to scale as O(n^2) with n=100 taking about ~5-8 seconds for each shingle length\n",
    "\n",
    "import time\n",
    "\n",
    "dontrunthis()\n",
    "\n",
    "fname = 'data/articles_1000.train'\n",
    "ks = np.arange(1,20)\n",
    "jacs = []\n",
    "\n",
    "for k in ks:\n",
    "    start_time = time.time()\n",
    "    jacs.append(processData(fname,k))\n",
    "    print ' --- '+str(time.time()-start_time)+' seconds --- | k = '+str(k)+' / '+str(ks[-1])\n",
    "    # save data every iteration\n",
    "    np.save('data_1000.npy',jacs)"
   ]
  },
  {
   "cell_type": "markdown",
   "metadata": {},
   "source": [
    "- Initial glance at data"
   ]
  },
  {
   "cell_type": "code",
   "execution_count": 9,
   "metadata": {
    "collapsed": true
   },
   "outputs": [],
   "source": [
    "# Load and analyze data\n",
    "\n",
    "import pandas\n",
    "\n",
    "# load data\n",
    "jacs = np.load('data_1000.npy')\n",
    "\n",
    "# put data into array of panda dataframes\n",
    "dts = []\n",
    "for jac in jacs: # for each shingle length\n",
    "    dts.append(pandas.DataFrame(jac,columns=['id1','id2','JSIM','plagiarized']))"
   ]
  },
  {
   "cell_type": "code",
   "execution_count": 10,
   "metadata": {},
   "outputs": [
    {
     "data": {
      "text/html": [
       "<div>\n",
       "<style scoped>\n",
       "    .dataframe tbody tr th:only-of-type {\n",
       "        vertical-align: middle;\n",
       "    }\n",
       "\n",
       "    .dataframe tbody tr th {\n",
       "        vertical-align: top;\n",
       "    }\n",
       "\n",
       "    .dataframe thead th {\n",
       "        text-align: right;\n",
       "    }\n",
       "</style>\n",
       "<table border=\"1\" class=\"dataframe\">\n",
       "  <thead>\n",
       "    <tr style=\"text-align: right;\">\n",
       "      <th></th>\n",
       "      <th>id1</th>\n",
       "      <th>id2</th>\n",
       "      <th>JSIM</th>\n",
       "      <th>plagiarized</th>\n",
       "    </tr>\n",
       "  </thead>\n",
       "  <tbody>\n",
       "    <tr>\n",
       "      <th>0</th>\n",
       "      <td>t120</td>\n",
       "      <td>t121</td>\n",
       "      <td>0.104062072113</td>\n",
       "      <td>N</td>\n",
       "    </tr>\n",
       "    <tr>\n",
       "      <th>1</th>\n",
       "      <td>t120</td>\n",
       "      <td>t122</td>\n",
       "      <td>0.0901639344262</td>\n",
       "      <td>N</td>\n",
       "    </tr>\n",
       "    <tr>\n",
       "      <th>2</th>\n",
       "      <td>t120</td>\n",
       "      <td>t123</td>\n",
       "      <td>0.085520361991</td>\n",
       "      <td>N</td>\n",
       "    </tr>\n",
       "    <tr>\n",
       "      <th>3</th>\n",
       "      <td>t120</td>\n",
       "      <td>t124</td>\n",
       "      <td>0.0837297811608</td>\n",
       "      <td>N</td>\n",
       "    </tr>\n",
       "    <tr>\n",
       "      <th>4</th>\n",
       "      <td>t120</td>\n",
       "      <td>t125</td>\n",
       "      <td>0.150289017341</td>\n",
       "      <td>N</td>\n",
       "    </tr>\n",
       "  </tbody>\n",
       "</table>\n",
       "</div>"
      ],
      "text/plain": [
       "    id1   id2             JSIM plagiarized\n",
       "0  t120  t121   0.104062072113           N\n",
       "1  t120  t122  0.0901639344262           N\n",
       "2  t120  t123   0.085520361991           N\n",
       "3  t120  t124  0.0837297811608           N\n",
       "4  t120  t125   0.150289017341           N"
      ]
     },
     "execution_count": 10,
     "metadata": {},
     "output_type": "execute_result"
    }
   ],
   "source": [
    "# first few entries for k = 4\n",
    "k=4\n",
    "dts[k-1].head()"
   ]
  },
  {
   "cell_type": "code",
   "execution_count": 11,
   "metadata": {},
   "outputs": [
    {
     "data": {
      "text/html": [
       "<div>\n",
       "<style scoped>\n",
       "    .dataframe tbody tr th:only-of-type {\n",
       "        vertical-align: middle;\n",
       "    }\n",
       "\n",
       "    .dataframe tbody tr th {\n",
       "        vertical-align: top;\n",
       "    }\n",
       "\n",
       "    .dataframe thead th {\n",
       "        text-align: right;\n",
       "    }\n",
       "</style>\n",
       "<table border=\"1\" class=\"dataframe\">\n",
       "  <thead>\n",
       "    <tr style=\"text-align: right;\">\n",
       "      <th></th>\n",
       "      <th>id1</th>\n",
       "      <th>id2</th>\n",
       "      <th>JSIM</th>\n",
       "      <th>plagiarized</th>\n",
       "    </tr>\n",
       "  </thead>\n",
       "  <tbody>\n",
       "    <tr>\n",
       "      <th>97745</th>\n",
       "      <td>t980</td>\n",
       "      <td>t2023</td>\n",
       "      <td>1.0</td>\n",
       "      <td>Y</td>\n",
       "    </tr>\n",
       "    <tr>\n",
       "      <th>114897</th>\n",
       "      <td>t1088</td>\n",
       "      <td>t5015</td>\n",
       "      <td>1.0</td>\n",
       "      <td>Y</td>\n",
       "    </tr>\n",
       "    <tr>\n",
       "      <th>139852</th>\n",
       "      <td>t1297</td>\n",
       "      <td>t4638</td>\n",
       "      <td>1.0</td>\n",
       "      <td>Y</td>\n",
       "    </tr>\n",
       "    <tr>\n",
       "      <th>177843</th>\n",
       "      <td>t1768</td>\n",
       "      <td>t5248</td>\n",
       "      <td>1.0</td>\n",
       "      <td>Y</td>\n",
       "    </tr>\n",
       "    <tr>\n",
       "      <th>178473</th>\n",
       "      <td>t1952</td>\n",
       "      <td>t3495</td>\n",
       "      <td>1.0</td>\n",
       "      <td>Y</td>\n",
       "    </tr>\n",
       "    <tr>\n",
       "      <th>229635</th>\n",
       "      <td>t2535</td>\n",
       "      <td>t8642</td>\n",
       "      <td>1.0</td>\n",
       "      <td>Y</td>\n",
       "    </tr>\n",
       "    <tr>\n",
       "      <th>242732</th>\n",
       "      <td>t2839</td>\n",
       "      <td>t9303</td>\n",
       "      <td>1.0</td>\n",
       "      <td>Y</td>\n",
       "    </tr>\n",
       "    <tr>\n",
       "      <th>247551</th>\n",
       "      <td>t2957</td>\n",
       "      <td>t7111</td>\n",
       "      <td>1.0</td>\n",
       "      <td>Y</td>\n",
       "    </tr>\n",
       "    <tr>\n",
       "      <th>277191</th>\n",
       "      <td>t3268</td>\n",
       "      <td>t7998</td>\n",
       "      <td>1.0</td>\n",
       "      <td>Y</td>\n",
       "    </tr>\n",
       "    <tr>\n",
       "      <th>303023</th>\n",
       "      <td>t3466</td>\n",
       "      <td>t7563</td>\n",
       "      <td>1.0</td>\n",
       "      <td>Y</td>\n",
       "    </tr>\n",
       "  </tbody>\n",
       "</table>\n",
       "</div>"
      ],
      "text/plain": [
       "          id1    id2 JSIM plagiarized\n",
       "97745    t980  t2023  1.0           Y\n",
       "114897  t1088  t5015  1.0           Y\n",
       "139852  t1297  t4638  1.0           Y\n",
       "177843  t1768  t5248  1.0           Y\n",
       "178473  t1952  t3495  1.0           Y\n",
       "229635  t2535  t8642  1.0           Y\n",
       "242732  t2839  t9303  1.0           Y\n",
       "247551  t2957  t7111  1.0           Y\n",
       "277191  t3268  t7998  1.0           Y\n",
       "303023  t3466  t7563  1.0           Y"
      ]
     },
     "execution_count": 11,
     "metadata": {},
     "output_type": "execute_result"
    }
   ],
   "source": [
    "# Find all plagerized files for with k = 1\n",
    "k = 1\n",
    "dts[k-1][dts[k-1]['plagiarized'].str.match('Y')]"
   ]
  },
  {
   "cell_type": "markdown",
   "metadata": {},
   "source": [
    "- Analyze data"
   ]
  },
  {
   "cell_type": "code",
   "execution_count": 12,
   "metadata": {},
   "outputs": [],
   "source": [
    "aveJac_N = []\n",
    "aveJac_Y = []\n",
    "errJac_N = []\n",
    "errJac_Y = []\n",
    "\n",
    "ks = np.arange(1,20)\n",
    "for k in ks:\n",
    "    # generate list for each k\n",
    "    tmp1=dts[k-1][dts[k-1]['plagiarized'].str.match('Y')]['JSIM']\n",
    "    tmp2=dts[k-1][dts[k-1]['plagiarized'].str.match('N')]['JSIM']\n",
    "    \n",
    "    # add average jaccard sim and std to our plotting arrays\n",
    "    aveJac_Y.append(pandas.to_numeric(tmp1).mean())\n",
    "    errJac_Y.append(pandas.to_numeric(tmp1).std())\n",
    "    aveJac_N.append(pandas.to_numeric(tmp2).mean())\n",
    "    errJac_N.append(pandas.to_numeric(tmp2).std())"
   ]
  },
  {
   "cell_type": "markdown",
   "metadata": {},
   "source": [
    "- Visualize data"
   ]
  },
  {
   "cell_type": "code",
   "execution_count": 18,
   "metadata": {},
   "outputs": [
    {
     "data": {
      "text/plain": [
       "<matplotlib.legend.Legend at 0x7f3cfbe3e850>"
      ]
     },
     "execution_count": 18,
     "metadata": {},
     "output_type": "execute_result"
    },
    {
     "data": {
      "image/png": "[encoded data removed]",
      "text/plain": [
       "<matplotlib.figure.Figure at 0x7f3cfbe831d0>"
      ]
     },
     "metadata": {},
     "output_type": "display_data"
    }
   ],
   "source": [
    "plt.figure(figsize=(12,5))\n",
    "\n",
    "plt.errorbar(ks[0:10],aveJac_Y[0:10],yerr=errJac_Y[0:10],capsize=10,fmt='o-',label='Yes Plagiarized')\n",
    "plt.errorbar(ks[0:10],aveJac_N[0:10],yerr=errJac_N[0:10],capsize=10,fmt='o-',label='No Plagiarized')\n",
    "\n",
    "plt.title('Jaccard Similarity vs Sharding Length for a set of 1000 documents')\n",
    "plt.xlabel('K (sharding length)')\n",
    "plt.ylabel('Average Jaccard Similarity')\n",
    "plt.legend()"
   ]
  },
  {
   "cell_type": "code",
   "execution_count": null,
   "metadata": {
    "collapsed": true
   },
   "outputs": [],
   "source": []
  }
 ],
 "metadata": {
  "kernelspec": {
   "display_name": "Python 2",
   "language": "python",
   "name": "python2"
  },
  "language_info": {
   "codemirror_mode": {
    "name": "ipython",
    "version": 2
   },
   "file_extension": ".py",
   "mimetype": "text/x-python",
   "name": "python",
   "nbconvert_exporter": "python",
   "pygments_lexer": "ipython2",
   "version": "2.7.12"
  }
 },
 "nbformat": 4,
 "nbformat_minor": 2
}
