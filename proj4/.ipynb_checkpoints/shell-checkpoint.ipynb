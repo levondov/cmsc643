{
 "cells": [
  {
   "cell_type": "markdown",
   "metadata": {},
   "source": [
    "# Time series analysis as supervised learning\n",
    "\n",
    "The remaining parts of the project will build models for time series data using Keras.\n",
    "\n",
    "We will be using the mortgage affordability provided by Zillow https://www.zillow.com/research/data/ we have seen previously.\n",
    "\n",
    "The project repository includes the data and utility functions to load and plot it"
   ]
  },
  {
   "cell_type": "code",
   "execution_count": 1,
   "metadata": {},
   "outputs": [],
   "source": [
    "%load_ext autoreload\n",
    "%autoreload 2"
   ]
  },
  {
   "cell_type": "code",
   "execution_count": 2,
   "metadata": {},
   "outputs": [
    {
     "data": {
      "text/html": [
       "<div>\n",
       "<style scoped>\n",
       "    .dataframe tbody tr th:only-of-type {\n",
       "        vertical-align: middle;\n",
       "    }\n",
       "\n",
       "    .dataframe tbody tr th {\n",
       "        vertical-align: top;\n",
       "    }\n",
       "\n",
       "    .dataframe thead th {\n",
       "        text-align: right;\n",
       "    }\n",
       "</style>\n",
       "<table border=\"1\" class=\"dataframe\">\n",
       "  <thead>\n",
       "    <tr style=\"text-align: right;\">\n",
       "      <th></th>\n",
       "      <th>RegionID</th>\n",
       "      <th>RegionName</th>\n",
       "      <th>SizeRank</th>\n",
       "      <th>1979-03</th>\n",
       "      <th>1979-06</th>\n",
       "      <th>1979-09</th>\n",
       "      <th>1979-12</th>\n",
       "      <th>1980-03</th>\n",
       "      <th>1980-06</th>\n",
       "      <th>1980-09</th>\n",
       "      <th>...</th>\n",
       "      <th>2014-12</th>\n",
       "      <th>2015-03</th>\n",
       "      <th>2015-06</th>\n",
       "      <th>2015-09</th>\n",
       "      <th>2015-12</th>\n",
       "      <th>2016-03</th>\n",
       "      <th>2016-06</th>\n",
       "      <th>2016-09</th>\n",
       "      <th>2016-12</th>\n",
       "      <th>2017-03</th>\n",
       "    </tr>\n",
       "  </thead>\n",
       "  <tbody>\n",
       "    <tr>\n",
       "      <th>324</th>\n",
       "      <td>394913</td>\n",
       "      <td>New York, NY</td>\n",
       "      <td>1</td>\n",
       "      <td>0.261700</td>\n",
       "      <td>0.278316</td>\n",
       "      <td>0.284399</td>\n",
       "      <td>0.319438</td>\n",
       "      <td>0.379845</td>\n",
       "      <td>0.318970</td>\n",
       "      <td>0.337586</td>\n",
       "      <td>...</td>\n",
       "      <td>0.241961</td>\n",
       "      <td>0.240494</td>\n",
       "      <td>0.247387</td>\n",
       "      <td>0.245957</td>\n",
       "      <td>0.249606</td>\n",
       "      <td>0.241544</td>\n",
       "      <td>0.239503</td>\n",
       "      <td>0.240021</td>\n",
       "      <td>0.265376</td>\n",
       "      <td>0.269264</td>\n",
       "    </tr>\n",
       "    <tr>\n",
       "      <th>325</th>\n",
       "      <td>753899</td>\n",
       "      <td>Los Angeles-Long Beach-Anaheim, CA</td>\n",
       "      <td>2</td>\n",
       "      <td>0.357694</td>\n",
       "      <td>0.388161</td>\n",
       "      <td>0.401762</td>\n",
       "      <td>0.459422</td>\n",
       "      <td>0.541508</td>\n",
       "      <td>0.464528</td>\n",
       "      <td>0.486750</td>\n",
       "      <td>...</td>\n",
       "      <td>0.383162</td>\n",
       "      <td>0.382531</td>\n",
       "      <td>0.396277</td>\n",
       "      <td>0.395686</td>\n",
       "      <td>0.402116</td>\n",
       "      <td>0.393042</td>\n",
       "      <td>0.390708</td>\n",
       "      <td>0.386895</td>\n",
       "      <td>0.430334</td>\n",
       "      <td>0.433476</td>\n",
       "    </tr>\n",
       "    <tr>\n",
       "      <th>326</th>\n",
       "      <td>394463</td>\n",
       "      <td>Chicago, IL</td>\n",
       "      <td>3</td>\n",
       "      <td>0.261928</td>\n",
       "      <td>0.276790</td>\n",
       "      <td>0.276248</td>\n",
       "      <td>0.309709</td>\n",
       "      <td>0.353099</td>\n",
       "      <td>0.299344</td>\n",
       "      <td>0.295616</td>\n",
       "      <td>...</td>\n",
       "      <td>0.134913</td>\n",
       "      <td>0.134063</td>\n",
       "      <td>0.139074</td>\n",
       "      <td>0.137962</td>\n",
       "      <td>0.138784</td>\n",
       "      <td>0.134412</td>\n",
       "      <td>0.133701</td>\n",
       "      <td>0.132856</td>\n",
       "      <td>0.147025</td>\n",
       "      <td>0.149054</td>\n",
       "    </tr>\n",
       "    <tr>\n",
       "      <th>327</th>\n",
       "      <td>394514</td>\n",
       "      <td>Dallas-Fort Worth, TX</td>\n",
       "      <td>4</td>\n",
       "      <td>0.301131</td>\n",
       "      <td>0.328453</td>\n",
       "      <td>0.340857</td>\n",
       "      <td>0.386321</td>\n",
       "      <td>0.452818</td>\n",
       "      <td>0.376912</td>\n",
       "      <td>0.394715</td>\n",
       "      <td>...</td>\n",
       "      <td>0.118163</td>\n",
       "      <td>0.117663</td>\n",
       "      <td>0.124935</td>\n",
       "      <td>0.128167</td>\n",
       "      <td>0.133517</td>\n",
       "      <td>0.131539</td>\n",
       "      <td>0.133219</td>\n",
       "      <td>0.135142</td>\n",
       "      <td>0.149861</td>\n",
       "      <td>0.152387</td>\n",
       "    </tr>\n",
       "    <tr>\n",
       "      <th>328</th>\n",
       "      <td>394974</td>\n",
       "      <td>Philadelphia, PA</td>\n",
       "      <td>5</td>\n",
       "      <td>0.204333</td>\n",
       "      <td>0.215107</td>\n",
       "      <td>0.219247</td>\n",
       "      <td>0.247690</td>\n",
       "      <td>0.295396</td>\n",
       "      <td>0.248018</td>\n",
       "      <td>0.260259</td>\n",
       "      <td>...</td>\n",
       "      <td>0.141915</td>\n",
       "      <td>0.139100</td>\n",
       "      <td>0.142831</td>\n",
       "      <td>0.141625</td>\n",
       "      <td>0.142089</td>\n",
       "      <td>0.137387</td>\n",
       "      <td>0.135599</td>\n",
       "      <td>0.135064</td>\n",
       "      <td>0.148746</td>\n",
       "      <td>0.148559</td>\n",
       "    </tr>\n",
       "    <tr>\n",
       "      <th>329</th>\n",
       "      <td>394692</td>\n",
       "      <td>Houston, TX</td>\n",
       "      <td>6</td>\n",
       "      <td>0.243178</td>\n",
       "      <td>0.265630</td>\n",
       "      <td>0.268049</td>\n",
       "      <td>0.294382</td>\n",
       "      <td>0.342770</td>\n",
       "      <td>0.291661</td>\n",
       "      <td>0.292763</td>\n",
       "      <td>...</td>\n",
       "      <td>0.112149</td>\n",
       "      <td>0.113520</td>\n",
       "      <td>0.118255</td>\n",
       "      <td>0.119155</td>\n",
       "      <td>0.122370</td>\n",
       "      <td>0.120863</td>\n",
       "      <td>0.120717</td>\n",
       "      <td>0.120675</td>\n",
       "      <td>0.132078</td>\n",
       "      <td>0.130511</td>\n",
       "    </tr>\n",
       "    <tr>\n",
       "      <th>330</th>\n",
       "      <td>395209</td>\n",
       "      <td>Washington, DC</td>\n",
       "      <td>7</td>\n",
       "      <td>0.254252</td>\n",
       "      <td>0.264869</td>\n",
       "      <td>0.277353</td>\n",
       "      <td>0.314773</td>\n",
       "      <td>0.373035</td>\n",
       "      <td>0.319475</td>\n",
       "      <td>0.337635</td>\n",
       "      <td>...</td>\n",
       "      <td>0.174821</td>\n",
       "      <td>0.173381</td>\n",
       "      <td>0.178910</td>\n",
       "      <td>0.177032</td>\n",
       "      <td>0.178584</td>\n",
       "      <td>0.172367</td>\n",
       "      <td>0.169965</td>\n",
       "      <td>0.168010</td>\n",
       "      <td>0.185774</td>\n",
       "      <td>0.186239</td>\n",
       "    </tr>\n",
       "    <tr>\n",
       "      <th>331</th>\n",
       "      <td>394856</td>\n",
       "      <td>Miami-Fort Lauderdale, FL</td>\n",
       "      <td>8</td>\n",
       "      <td>0.267852</td>\n",
       "      <td>0.284229</td>\n",
       "      <td>0.287053</td>\n",
       "      <td>0.332037</td>\n",
       "      <td>0.392403</td>\n",
       "      <td>0.334098</td>\n",
       "      <td>0.360938</td>\n",
       "      <td>...</td>\n",
       "      <td>0.181766</td>\n",
       "      <td>0.183585</td>\n",
       "      <td>0.194088</td>\n",
       "      <td>0.197580</td>\n",
       "      <td>0.203430</td>\n",
       "      <td>0.197855</td>\n",
       "      <td>0.198292</td>\n",
       "      <td>0.199508</td>\n",
       "      <td>0.221129</td>\n",
       "      <td>0.222176</td>\n",
       "    </tr>\n",
       "    <tr>\n",
       "      <th>332</th>\n",
       "      <td>394347</td>\n",
       "      <td>Atlanta, GA</td>\n",
       "      <td>9</td>\n",
       "      <td>0.248301</td>\n",
       "      <td>0.264578</td>\n",
       "      <td>0.271742</td>\n",
       "      <td>0.312490</td>\n",
       "      <td>0.371988</td>\n",
       "      <td>0.307385</td>\n",
       "      <td>0.322451</td>\n",
       "      <td>...</td>\n",
       "      <td>0.113326</td>\n",
       "      <td>0.113214</td>\n",
       "      <td>0.117454</td>\n",
       "      <td>0.118066</td>\n",
       "      <td>0.120754</td>\n",
       "      <td>0.117895</td>\n",
       "      <td>0.117187</td>\n",
       "      <td>0.116937</td>\n",
       "      <td>0.130104</td>\n",
       "      <td>0.131081</td>\n",
       "    </tr>\n",
       "    <tr>\n",
       "      <th>333</th>\n",
       "      <td>394404</td>\n",
       "      <td>Boston, MA</td>\n",
       "      <td>10</td>\n",
       "      <td>0.222021</td>\n",
       "      <td>0.237248</td>\n",
       "      <td>0.239940</td>\n",
       "      <td>0.276893</td>\n",
       "      <td>0.316496</td>\n",
       "      <td>0.271210</td>\n",
       "      <td>0.285134</td>\n",
       "      <td>...</td>\n",
       "      <td>0.212892</td>\n",
       "      <td>0.210786</td>\n",
       "      <td>0.216809</td>\n",
       "      <td>0.217371</td>\n",
       "      <td>0.221722</td>\n",
       "      <td>0.215844</td>\n",
       "      <td>0.214103</td>\n",
       "      <td>0.212644</td>\n",
       "      <td>0.236357</td>\n",
       "      <td>0.239656</td>\n",
       "    </tr>\n",
       "  </tbody>\n",
       "</table>\n",
       "<p>10 rows × 156 columns</p>\n",
       "</div>"
      ],
      "text/plain": [
       "     RegionID                          RegionName  SizeRank   1979-03  \\\n",
       "324    394913                        New York, NY         1  0.261700   \n",
       "325    753899  Los Angeles-Long Beach-Anaheim, CA         2  0.357694   \n",
       "326    394463                         Chicago, IL         3  0.261928   \n",
       "327    394514               Dallas-Fort Worth, TX         4  0.301131   \n",
       "328    394974                    Philadelphia, PA         5  0.204333   \n",
       "329    394692                         Houston, TX         6  0.243178   \n",
       "330    395209                      Washington, DC         7  0.254252   \n",
       "331    394856           Miami-Fort Lauderdale, FL         8  0.267852   \n",
       "332    394347                         Atlanta, GA         9  0.248301   \n",
       "333    394404                          Boston, MA        10  0.222021   \n",
       "\n",
       "      1979-06   1979-09   1979-12   1980-03   1980-06   1980-09    ...     \\\n",
       "324  0.278316  0.284399  0.319438  0.379845  0.318970  0.337586    ...      \n",
       "325  0.388161  0.401762  0.459422  0.541508  0.464528  0.486750    ...      \n",
       "326  0.276790  0.276248  0.309709  0.353099  0.299344  0.295616    ...      \n",
       "327  0.328453  0.340857  0.386321  0.452818  0.376912  0.394715    ...      \n",
       "328  0.215107  0.219247  0.247690  0.295396  0.248018  0.260259    ...      \n",
       "329  0.265630  0.268049  0.294382  0.342770  0.291661  0.292763    ...      \n",
       "330  0.264869  0.277353  0.314773  0.373035  0.319475  0.337635    ...      \n",
       "331  0.284229  0.287053  0.332037  0.392403  0.334098  0.360938    ...      \n",
       "332  0.264578  0.271742  0.312490  0.371988  0.307385  0.322451    ...      \n",
       "333  0.237248  0.239940  0.276893  0.316496  0.271210  0.285134    ...      \n",
       "\n",
       "      2014-12   2015-03   2015-06   2015-09   2015-12   2016-03   2016-06  \\\n",
       "324  0.241961  0.240494  0.247387  0.245957  0.249606  0.241544  0.239503   \n",
       "325  0.383162  0.382531  0.396277  0.395686  0.402116  0.393042  0.390708   \n",
       "326  0.134913  0.134063  0.139074  0.137962  0.138784  0.134412  0.133701   \n",
       "327  0.118163  0.117663  0.124935  0.128167  0.133517  0.131539  0.133219   \n",
       "328  0.141915  0.139100  0.142831  0.141625  0.142089  0.137387  0.135599   \n",
       "329  0.112149  0.113520  0.118255  0.119155  0.122370  0.120863  0.120717   \n",
       "330  0.174821  0.173381  0.178910  0.177032  0.178584  0.172367  0.169965   \n",
       "331  0.181766  0.183585  0.194088  0.197580  0.203430  0.197855  0.198292   \n",
       "332  0.113326  0.113214  0.117454  0.118066  0.120754  0.117895  0.117187   \n",
       "333  0.212892  0.210786  0.216809  0.217371  0.221722  0.215844  0.214103   \n",
       "\n",
       "      2016-09   2016-12   2017-03  \n",
       "324  0.240021  0.265376  0.269264  \n",
       "325  0.386895  0.430334  0.433476  \n",
       "326  0.132856  0.147025  0.149054  \n",
       "327  0.135142  0.149861  0.152387  \n",
       "328  0.135064  0.148746  0.148559  \n",
       "329  0.120675  0.132078  0.130511  \n",
       "330  0.168010  0.185774  0.186239  \n",
       "331  0.199508  0.221129  0.222176  \n",
       "332  0.116937  0.130104  0.131081  \n",
       "333  0.212644  0.236357  0.239656  \n",
       "\n",
       "[10 rows x 156 columns]"
      ]
     },
     "execution_count": 2,
     "metadata": {},
     "output_type": "execute_result"
    }
   ],
   "source": [
    "import affordability_lib.utils as utils\n",
    "\n",
    "afford_df = utils.get_affordability_df()\n",
    "afford_df.head(10)"
   ]
  },
  {
   "cell_type": "code",
   "execution_count": 3,
   "metadata": {},
   "outputs": [
    {
     "data": {
      "image/png": "[encoded data removed]",
      "text/plain": [
       "<Figure size 432x288 with 1 Axes>"
      ]
     },
     "metadata": {},
     "output_type": "display_data"
    }
   ],
   "source": [
    "import matplotlib.pyplot as plt\n",
    "\n",
    "%matplotlib inline\n",
    "utils.plot_affordability_series(afford_df)\n",
    "plt.show()"
   ]
  },
  {
   "cell_type": "markdown",
   "metadata": {},
   "source": [
    "## Getting data ready\n",
    "\n",
    "We will build models that forecast mortgage one-year-out affordability based on the previous 4 years of affordability values. To obtain data for model building we provide the class `TSExampleGenerator` in the `affordability_lib.utils` module. This class does a bunch of things so let's take a look by parts.\n",
    "\n",
    "First, let's initialize the object. Here, we will set important parameters for our model building. We'll explain the parameters below"
   ]
  },
  {
   "cell_type": "code",
   "execution_count": 4,
   "metadata": {},
   "outputs": [],
   "source": [
    "from affordability_lib.utils import TSExampleGenerator\n",
    "example_generator_factory = TSExampleGenerator(afford_df, horizon=4, n_prediction_years=4,\n",
    "                                      n_test_quarters = 4, n_val_quarters=4,\n",
    "                                      normalize=True)\n"
   ]
  },
  {
   "cell_type": "markdown",
   "metadata": {},
   "source": [
    "The parameters we pass have the following purpose:\n",
    "- `afford_df`: the affordability data frame\n",
    "- `horizon=4`: how far from the last observed timepoint do we make predictions, since we are making one-year-out predictions, we have a 4 quarter horizon\n",
    "- `n_prediction_years`: how many years of data we use to make predictions, here we use 4 years, which gives us 16 total time points to use for predictions. Therefore, we have sequences of length 16, to make predictions of sequences of length 1\n",
    "- `n_test_quarters`: we split the dataset into train, validation and test, here we specify that the **last four quarters** of data are to be used as targets for testing\n",
    "- `n_val_quarters`: here we set that the four quarters preceeding the quarters above will be used as targets for validation, all the remaning data will be used for training\n",
    "- `normalize`: standardize timeseries for each region by centering and scaling using region-specific mean and standard deviation. These parameters are computed from the training portion of the sequences only.\n",
    "\n",
    "Once we have the object above we can get generators for the training, validation and testing portions of the dataset as follows:"
   ]
  },
  {
   "cell_type": "code",
   "execution_count": 5,
   "metadata": {},
   "outputs": [
    {
     "name": "stdout",
     "output_type": "stream",
     "text": [
      "<generator object _example_generator at 0x7f8cc1f99e10>\n",
      "15\n"
     ]
    }
   ],
   "source": [
    "# get generator for testing portion of dataset\n",
    "test_generator, num_test_steps = example_generator_factory.get_test_gen(batchsize=20)\n",
    "print(test_generator)\n",
    "print(num_test_steps)"
   ]
  },
  {
   "cell_type": "markdown",
   "metadata": {},
   "source": [
    "The above states that `test_generator` is a python generator. These are objects we can use in iterations using the `next` keyword. For example, to get a batch of 20 test sequences I can do the following:"
   ]
  },
  {
   "cell_type": "code",
   "execution_count": 6,
   "metadata": {},
   "outputs": [
    {
     "name": "stdout",
     "output_type": "stream",
     "text": [
      "(20, 16, 1)\n",
      "(20,)\n"
     ]
    }
   ],
   "source": [
    "X, y = next(test_generator)\n",
    "print(X.shape)\n",
    "print(y.shape)"
   ]
  },
  {
   "cell_type": "markdown",
   "metadata": {},
   "source": [
    "Note that the shape of `X` has three dimensions because sequence models in keras require it. The first dimension is the number of sequences, the second dimension the number of steps in the sequence (time), and the third dimension the dimensionality of the observations at each timestep (here 1 since we only observe affordability, in other situations this could be a multidimensional vector).\n"
   ]
  },
  {
   "cell_type": "markdown",
   "metadata": {},
   "source": [
    "The way this code is designed, we can call the `next` keyword on these generators infinitely as it is easier to use within keras that way. The `num_test_steps` returned above is used to ensure that we generate enough examples to cycle through at least once through the corresponding portion of the dataset. For instance, the following loop generates all test examples in the dataset."
   ]
  },
  {
   "cell_type": "code",
   "execution_count": 7,
   "metadata": {},
   "outputs": [],
   "source": [
    "for i in range(num_test_steps):\n",
    "    X, y = next(test_generator)"
   ]
  },
  {
   "cell_type": "markdown",
   "metadata": {},
   "source": [
    "## Baseline model\n",
    "\n",
    "To get a sense of the problem, let's use a baseline model that uses average mortgage affordability over the previous four years to predict one-year-out affordability. Let's try this model on the validation dataset and compute it's median absolute error."
   ]
  },
  {
   "cell_type": "code",
   "execution_count": 8,
   "metadata": {},
   "outputs": [
    {
     "name": "stdout",
     "output_type": "stream",
     "text": [
      "0.27454311314151586\n",
      "0.05348667369435827\n"
     ]
    }
   ],
   "source": [
    "import numpy as np\n",
    "\n",
    "def evaluate_naive():\n",
    "    batch_maes = []\n",
    "    gen, num_steps = example_generator_factory.get_val_gen(batchsize=20)\n",
    "    for step in range(num_steps):\n",
    "        X, y = next(gen)\n",
    "        yhat = np.mean(X, axis=1)\n",
    "        mae = np.median(np.abs(y - yhat))\n",
    "        batch_maes.append(mae)\n",
    "    return batch_maes\n",
    "\n",
    "naive_maes = evaluate_naive()\n",
    "print(np.mean(naive_maes))\n",
    "print(np.std(naive_maes))"
   ]
  },
  {
   "cell_type": "markdown",
   "metadata": {},
   "source": [
    "## Model building\n",
    "\n",
    "Let's build a few models for this task using keras. For all of these use `RMSprop` as the gradient descent algorithm, and `median absolute error` as the loss function. For each of the model plot training and validation error across epochs and comment on their behavior. Is the model learning anything, is it overfitting, how stable is it, etc. For each model, report median absolute error on the validation set."
   ]
  },
  {
   "cell_type": "markdown",
   "metadata": {},
   "source": [
    "### Model 1: Linear Regression \n",
    "\n",
    "Train a linear regression model using Keras for this task.\n",
    "\n",
    "- Recall that for linear regression we want to build a model\n",
    "\n",
    "$$\n",
    "f = Xw + b\n",
    "$$ \n",
    "\n",
    "where in this case, $X$ will be a matrix with 16 columns, corresponding to the values of affordability for the previous four years.\n",
    "\n",
    "The first layer in your network will be a `Flatten` layer since this is not a sequence model. This is true of the next two models as well. \n",
    "\n",
    "The general structure of your models will be as follows:"
   ]
  },
  {
   "cell_type": "code",
   "execution_count": 13,
   "metadata": {},
   "outputs": [],
   "source": [
    "from keras.models import Sequential\n",
    "from keras import layers\n",
    "from keras.optimizers import RMSprop\n",
    "\n",
    "model = Sequential()\n",
    "model.add(layers.Flatten(input_shape=(16,1)))\n",
    "model.add(layers.Dense(1, input_shape=(16,1), activation='linear')) # linear regression\n",
    "\n",
    "model.compile(optimizer=RMSprop(), loss='mae')\n",
    "    \n",
    "train_gen, num_train_steps = example_generator_factory.get_train_gen(batchsize=20)\n",
    "val_gen, num_val_steps = example_generator_factory.get_val_gen(batchsize=20)\n",
    "\n",
    "history = model.fit_generator(train_gen,\n",
    "                              steps_per_epoch=num_train_steps,\n",
    "                              epochs=20, # however many epochs you plan to use\n",
    "                              validation_data=val_gen,\n",
    "                              validation_steps=num_val_steps, verbose=False)\n",
    "\n",
    "# you can use history to make plots of training and validation error\n",
    "# after that you can make predictions with model.predict"
   ]
  },
  {
   "cell_type": "code",
   "execution_count": 33,
   "metadata": {},
   "outputs": [
    {
     "data": {
      "text/plain": [
       "<matplotlib.legend.Legend at 0x7f8cd9425750>"
      ]
     },
     "execution_count": 33,
     "metadata": {},
     "output_type": "execute_result"
    },
    {
     "data": {
      "image/png": "[encoded data removed]",
      "text/plain": [
       "<Figure size 720x216 with 1 Axes>"
      ]
     },
     "metadata": {},
     "output_type": "display_data"
    }
   ],
   "source": [
    "plt.figure(figsize=(10,3))\n",
    "plt.plot(history.history['loss'], label='loss')\n",
    "plt.plot(history.history['val_loss'],label='val_loss')\n",
    "plt.legend()"
   ]
  },
  {
   "cell_type": "code",
   "execution_count": 51,
   "metadata": {},
   "outputs": [
    {
     "name": "stdout",
     "output_type": "stream",
     "text": [
      "\r",
      " 1/15 [=>............................] - ETA: 0s\b\b\b\b\b\b\b\b\b\b\b\b\b\b\b\b\b\b\b\b\b\b\b\b\b\b\b\b\b\b\b\b\b\b\b\b\b\b\b\b\b\b\b\b\b\b\b\b\r",
      "15/15 [==============================] - 0s 2ms/step\n",
      "0.35328319795309576\n",
      "0.025779108314126116\n"
     ]
    }
   ],
   "source": [
    "# calculate mean error\n",
    "def evaluate_err(yhat):\n",
    "    # return mean diff mean(y-yhat) for each batch\n",
    "    batch_maes = []\n",
    "    gen, num_steps = example_generator_factory.get_val_gen(batchsize=20)\n",
    "    for step in range(num_steps):\n",
    "        X, y = next(gen)\n",
    "        mae = np.median(np.abs(y - yhat[i*20:(i+1)*20]))\n",
    "        batch_maes.append(mae)\n",
    "    return batch_maes\n",
    "\n",
    "yhat = model.predict_generator(val_gen, steps=num_val_steps, verbose=False)\n",
    "\n",
    "linreg_maes = evaluate_err(yhat)\n",
    "print(np.mean(linreg_maes))\n",
    "print(np.std(linreg_maes))"
   ]
  },
  {
   "cell_type": "markdown",
   "metadata": {},
   "source": [
    "### Model 2: Single Layer Feed-Forward Neural Network\n",
    "\n",
    "Train a single layer feed forward neural network using Keras.\n",
    "\n",
    "Don't worry about tuning parameters yet (i.e., the number of units in the hidden layer units). Choose a number and go with it.\n"
   ]
  },
  {
   "cell_type": "markdown",
   "metadata": {},
   "source": [
    "### Model 3: Deep Neural Network\n",
    "\n",
    "Train a neural network with one or more layers for this task. \n",
    "\n",
    "Here, try tuning parameters (the number of hidden layers, and the number of units per layer). Use MAE on validation set as a guide."
   ]
  },
  {
   "cell_type": "markdown",
   "metadata": {},
   "source": [
    "### Model 4: Single layer recurrent neural network\n",
    "\n",
    "Train a recurrent neural network with a single layer, using a `GRU` recurrent cell. \n",
    "\n",
    "Look at documentation for the GRU layers in keras: https://keras.io/layers/recurrent/\n",
    "\n",
    "You will not need a `Flatten` layer in these networks."
   ]
  },
  {
   "cell_type": "markdown",
   "metadata": {},
   "source": [
    "### Model 5: Single layer recurrent neural network with dropout\n",
    "\n",
    "Train a recurrent neural network with a single layer, using a GRU recurrent cell.\n",
    "\n",
    "Look at documentation for the GRU layers in keras: https://keras.io/layers/recurrent/\n",
    "\n",
    "Use the `dropout` and `recurrent_dropout` arguments to implement weight dropout in the RNN. "
   ]
  },
  {
   "cell_type": "markdown",
   "metadata": {},
   "source": [
    "### Model 6: Deep RNN \n",
    "\n",
    "Train a recurrent neural network with two or more layers, with or without dropout. Here experiment with number and size of layers using validation error as a guide."
   ]
  },
  {
   "cell_type": "markdown",
   "metadata": {},
   "source": [
    "## Conclusion\n",
    "\n",
    "Comment on the overall performance of these models. \n",
    "\n",
    "- How much of an improvement did you obtain over the baseline? \n",
    "- What is the general relative performance of recurrent networks relative to flat networks? \n",
    "- What was the effect of using dropout in the RNN network? \n",
    "- What was the effect of network architecture, number and size of layers, on performance? Was the effect similar in RNNs and flat networks?\n",
    "\n",
    "Choose a final model based on your observations above and compare to the baseline model based on the median absolute error on the test set portion of the data. "
   ]
  },
  {
   "cell_type": "code",
   "execution_count": null,
   "metadata": {},
   "outputs": [],
   "source": []
  }
 ],
 "metadata": {
  "kernelspec": {
   "display_name": "Python 2",
   "language": "python",
   "name": "python2"
  },
  "language_info": {
   "codemirror_mode": {
    "name": "ipython",
    "version": 2
   },
   "file_extension": ".py",
   "mimetype": "text/x-python",
   "name": "python",
   "nbconvert_exporter": "python",
   "pygments_lexer": "ipython2",
   "version": "2.7.12"
  }
 },
 "nbformat": 4,
 "nbformat_minor": 2
}
